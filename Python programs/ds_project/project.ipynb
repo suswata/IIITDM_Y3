{
 "cells": [
  {
   "cell_type": "code",
   "execution_count": null,
   "metadata": {},
   "outputs": [],
   "source": [
    "#DONE BY\n",
    "#CS20B1057\n",
    "#A S V DHANUSH\n",
    "#Breast Cancer Wisconsin (Diagnostic) Data Set\n",
    "#Predict whether the cancer is benign or malignant (WHETHER PATIENT HAS CANCER OR NOT)\n",
    "#Benign tissue is called healthy and malignant tissue is considered cancerous.\n",
    "#M = Malignant , B=Benign\n",
    "\n",
    "'''During a fine needle aspiration (FNA), a small amount of breast tissue or fluid is removed from a suspicious area with a thin,\n",
    "hollow needle and checked for cancer cells.\n",
    "Features are computed from a digitized image of a fine needle aspirate (FNA) of a breast mass\n",
    "They describe characteristics of the cell nuclei present in the image.'''\n",
    "import pandas as pd\n",
    "import matplotlib.pyplot as plt\n",
    "import numpy as np\n",
    "import math\n",
    "from scipy.stats import zscore\n",
    "from sklearn.model_selection import train_test_split\n",
    "from sklearn.neighbors import KNeighborsClassifier as knn\n",
    "from sklearn.metrics import accuracy_score as accs\n",
    "from sklearn.metrics import confusion_matrix as cm\n",
    "from mlxtend.plotting import plot_decision_regions\n",
    "import seaborn as sns\n",
    "\n",
    "df = pd.read_csv(\"cancer_data.csv\")\n",
    "#print(df) \n",
    "print(f\"THE MATRIX SIZE : {df.shape}\")\n",
    "print(\"-------------------------------------------------------------------------------------------------------\")\n",
    "#checking for datatypes\n",
    "print(df.dtypes)\n",
    "print(\"-------------------------------------------------------------------------------------------------------\")"
   ]
  },
  {
   "cell_type": "code",
   "execution_count": null,
   "metadata": {},
   "outputs": [],
   "source": [
    "#copying the data frames data into another dataframe\n",
    "df_copy = df.copy(deep = True)\n",
    "#getting the detais of df_copy dataframe\n",
    "print(\"------------------------------------------DESCRIBE-----------------------------------------------------\")\n",
    "print(df_copy.describe().transpose())\n",
    "print(\"-------------------------------------------------------------------------------------------------------\")"
   ]
  },
  {
   "cell_type": "code",
   "execution_count": null,
   "metadata": {},
   "outputs": [],
   "source": [
    "#removing the duplicate values in this dataframe\n",
    "retStatus = df_copy.drop_duplicates(inplace=True)\n",
    "print(\"IF DUPLICATES ARE NOT PRESENT THEN OUT WILL BE 'None'\")\n",
    "print(f\"Are Duplicates Present? :{retStatus}\")\n",
    "\n",
    "#since there are no duplicates in this dataframe we will go ahead and remove NaN values in this dataframe\n",
    "#df_without_nan = df_copy.dropna()\n",
    "#print(df_without_nan)\n",
    "#since there are no NaN entries in our dataframe we can move forward to plotting the graphs adn synthesizing the data and remvoing the outliers"
   ]
  },
  {
   "cell_type": "code",
   "execution_count": null,
   "metadata": {},
   "outputs": [],
   "source": [
    "#dividing the dataset based on the diagnosis (based of M OR B)\n",
    "#MALIGNANT DATAFRAME DETAILS\n",
    "\n",
    "print(\"--------------------------------------------MALIGNANT--------------------------------------------------\")\n",
    "df_malignant = df_copy[df[\"diagnosis\"] == 'M']\n",
    "print(f\"The size of Malignant dataset : {df_malignant.shape}\")\n",
    "#print(df_malignant)\n",
    "print(df_malignant.describe().transpose())\n",
    "print(\"-------------------------------------------------------------------------------------------------------\")\n"
   ]
  },
  {
   "cell_type": "code",
   "execution_count": null,
   "metadata": {},
   "outputs": [],
   "source": [
    "#BENIGN DATAFRAME DETAILS\n",
    "print(\"--------------------------------------------BENIGN-----------------------------------------------------\")\n",
    "df_benign = df_copy[df[\"diagnosis\"] == 'B']\n",
    "print(f\"The size is of Benign dataset : {df_benign.shape}\")\n",
    "#print(df_benign)\n",
    "df_copy['diagnosis'] = df_copy.diagnosis.astype('category')\n",
    "print(df_benign.describe().transpose())\n",
    "print(\"-------------------------------------------------------------------------------------------------------\")"
   ]
  },
  {
   "cell_type": "code",
   "execution_count": null,
   "metadata": {},
   "outputs": [],
   "source": [
    "print(\"---------------------------- DATA FRAME GROUPED BY DIAGNOSIS COUNT ------------------------------------\")\n",
    "print(df_copy.groupby([\"diagnosis\"]).count())\n",
    "print(\"-------------------------------------------------------------------------------------------------------\")\n",
    "#finding the ratio of  benign and benign\n",
    "ratio = df_benign[\"diagnosis\"].count()/df_malignant[\"diagnosis\"].count()\n",
    "\n",
    "print(f\"RATIO OF BENIGN / MALIGNANT : {math.ceil(ratio)}\")\n",
    "#SINCE THE RATIO IS CLOSE TO 2:1 WE CAN PREDICT FOR NOW THAT MOJORILY BENIGN DIAGNOSIS IS MORE (HEALTHY PATIENTS ARE MORE)!"
   ]
  },
  {
   "cell_type": "code",
   "execution_count": null,
   "metadata": {},
   "outputs": [],
   "source": [
    "\n",
    "#Since we dont need the patient id for the prediction of brest cancer\n",
    "#we drop the id column\n",
    "\n",
    "df_copy = df_copy.drop(labels = \"id\" ,axis=1)\n",
    "#print(df_copy)\n",
    "#id column has been dropped\n",
    "df_without_diagnosis = df_copy.drop([\"diagnosis\"],axis=1)\n",
    "#dataframe without diagnosis column\n",
    "print(df_without_diagnosis)\n",
    "print(\"-------------------------------------------------------------------------------------------------------\")"
   ]
  },
  {
   "cell_type": "code",
   "execution_count": 32,
   "metadata": {},
   "outputs": [
    {
     "name": "stdout",
     "output_type": "stream",
     "text": [
      "The Predicted Values Are\n",
      "['B' 'M' 'M' 'B' 'B' 'M' 'M' 'M' 'B' 'B' 'B' 'M' 'B' 'M' 'B' 'M' 'B' 'B'\n",
      " 'B' 'M' 'M' 'B' 'M' 'B' 'B' 'B' 'B' 'B' 'B' 'M' 'B' 'B' 'B' 'B' 'B' 'B'\n",
      " 'M' 'B' 'M' 'B' 'B' 'M' 'B' 'B' 'B' 'B' 'B' 'B' 'B' 'B' 'M' 'M' 'B' 'B'\n",
      " 'B' 'B' 'B' 'M' 'B' 'B' 'B' 'M' 'M' 'B' 'B' 'B' 'M' 'M' 'B' 'B' 'M' 'M'\n",
      " 'B' 'M' 'B' 'B' 'B' 'M' 'B' 'B' 'M' 'B' 'B' 'M' 'M' 'M' 'M' 'M' 'B' 'B'\n",
      " 'B' 'B' 'B' 'B' 'B' 'B' 'M' 'M' 'B' 'M' 'M' 'B' 'M' 'M' 'B' 'B' 'B' 'M'\n",
      " 'B' 'B' 'M' 'B' 'B' 'M' 'B' 'M' 'B' 'B' 'B' 'M' 'B' 'B' 'B' 'M' 'B' 'M'\n",
      " 'M' 'B' 'B' 'M' 'M' 'M' 'B' 'B' 'M' 'M' 'B' 'B' 'B' 'M' 'B' 'M' 'B' 'B'\n",
      " 'M' 'B' 'M' 'M' 'M' 'B' 'M' 'B' 'B' 'B' 'B' 'M' 'M' 'B' 'B' 'B' 'B' 'B'\n",
      " 'B' 'B' 'M' 'B' 'B' 'B' 'B' 'B' 'B']\n",
      "Confusion Matrix\n",
      "[[107   1]\n",
      " [  3  60]]\n",
      "----------------------------------------THE KNN FOR K VALUES TILL 100--------------------------------- \n",
      "[0.9766081871345029]\n",
      "-------------------------------------------------------------------------------------------------------\n"
     ]
    }
   ],
   "source": [
    "#WE NORMALISE THE DATA BEFORE FINDING DOING THE CLASSIFICATION\n",
    "cols = list(df_without_diagnosis.columns)\n",
    "for i in cols:\n",
    "    col_zscore = i + '_scaled'\n",
    "    df_without_diagnosis[col_zscore] = (df_without_diagnosis[i]-df_without_diagnosis[i].mean())/df_without_diagnosis[i].std(ddof=0)\n",
    "#print(f\"---------------------------------------NORMALIZED VALUES OF THE DATA SET------------------------------\\n{df_without_diagnosis}\")\n",
    "\n",
    "#print(\"-------------------------------------------------------------------------------------------------------\")\n",
    "#print(\"____________________________________K-NEAREST NEIGHBOURS CLASSIFIER____________________________________\")\n",
    "X_train, X_test, X_label_train, X_label_test = train_test_split(df_without_diagnosis,df_copy[\"diagnosis\"],test_size=0.3, random_state=42)\n",
    "#dropping the 'Class' column is the training and testing array\n",
    "\n",
    "acc_list=[]\n",
    "acc_index=[]\n",
    "#for i in range(1,100,2):\n",
    "    #K-Nearest Neigbours for K = 11\n",
    "n1 = knn(n_neighbors=11)\n",
    "n1.fit(X_train, X_label_train)\n",
    "\n",
    "pred1 = n1.predict(X_test)\n",
    "print(\"The Predicted Values Are\")\n",
    "print(pred1)\n",
    "\n",
    "print(\"Confusion Matrix\")\n",
    "confusion1 =  cm(X_label_test, pred1)\n",
    "print(confusion1)\n",
    "#print(\"Accuracy Score\")\n",
    "accur1 = accs(X_label_test,pred1)\n",
    "acc_list.append(accur1)\n",
    "acc_index.append(i)\n",
    "#print(accur1)\n",
    "print(f\"----------------------------------------THE KNN FOR K VALUES TILL 100--------------------------------- \\n{acc_list}\")\n",
    "print(\"-------------------------------------------------------------------------------------------------------\")\n",
    "        "
   ]
  },
  {
   "cell_type": "code",
   "execution_count": null,
   "metadata": {},
   "outputs": [],
   "source": [
    "#PLOTTING GRAPH BETWEEN NUMBER OF MALIGNANT AND BENIGN CASES\n",
    "df_plot = pd.DataFrame({'Cancer_Cell':['M', 'B'], 'Diagnosis_Count':[df_malignant[\"diagnosis\"].count(),df_benign[\"diagnosis\"].count()]})\n",
    "ax = df_plot.plot.bar( x='Cancer_Cell',y='Diagnosis_Count',color=['green','brown'])"
   ]
  },
  {
   "cell_type": "code",
   "execution_count": null,
   "metadata": {},
   "outputs": [],
   "source": [
    "#PLOTTING THE MEANS FOF EACH FEATURE FOR MALIGNANT AND BENIGN\n",
    "list_col = []\n",
    "list_col_means_m = []\n",
    "list_col_means_b = []\n",
    "for i in df_copy.columns:\n",
    "    if(i != \"diagnosis\" and i!= \"id\"):\n",
    "        list_col.append(i)\n",
    "        list_col_means_m.append(df_malignant[i].mean())\n",
    "        list_col_means_b.append(df_benign[i].mean())\n",
    "        df_plot1 = pd.DataFrame({'cols':i ,'values':{'M':df_malignant[i].mean(),'B':df_benign[i].mean()}})\n",
    "        ax1 = df_plot1.plot.bar( x='cols',y='values',color=['orange','blue'])"
   ]
  },
  {
   "cell_type": "code",
   "execution_count": null,
   "metadata": {},
   "outputs": [],
   "source": [
    "#KNN PLOT FOR K VALUES TILL 100\n",
    "#TREND FOR KNN AS WE INCREASE THE VALUE OF K\n",
    "#KDE PLOT\n",
    "sns.kdeplot(acc_list)\n"
   ]
  },
  {
   "cell_type": "code",
   "execution_count": 31,
   "metadata": {},
   "outputs": [
    {
     "data": {
      "text/plain": [
       "<AxesSubplot: >"
      ]
     },
     "execution_count": 31,
     "metadata": {},
     "output_type": "execute_result"
    },
    {
     "data": {
      "image/png": "[encoded data removed]",
      "text/plain": [
       "<Figure size 640x480 with 1 Axes>"
      ]
     },
     "metadata": {},
     "output_type": "display_data"
    }
   ],
   "source": [
    "#SCATTERPLOT\n",
    "sns.scatterplot([acc_list,acc_index])"
   ]
  }
 ],
 "metadata": {
  "kernelspec": {
   "display_name": "Python 3.10.8 64-bit (microsoft store)",
   "language": "python",
   "name": "python3"
  },
  "language_info": {
   "codemirror_mode": {
    "name": "ipython",
    "version": 3
   },
   "file_extension": ".py",
   "mimetype": "text/x-python",
   "name": "python",
   "nbconvert_exporter": "python",
   "pygments_lexer": "ipython3",
   "version": "3.10.8"
  },
  "orig_nbformat": 4,
  "vscode": {
   "interpreter": {
    "hash": "90c21906f2bc70c4e3af1ab85741cf88cc6410f92d678f915083284c90545fe2"
   }
  }
 },
 "nbformat": 4,
 "nbformat_minor": 2
}
